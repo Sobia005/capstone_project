{
 "cells": [
  {
   "cell_type": "code",
   "execution_count": null,
   "id": "c5d065a3-5bac-43cc-8fa3-d9fdbe9b4825",
   "metadata": {},
   "outputs": [],
   "source": [
    "import pandas as pd\n",
    "import numpy as np\n",
    "import matplotlib.pyplot as plt\n",
    "import seaborn as sns"
   ]
  },
  {
   "cell_type": "code",
   "execution_count": null,
   "id": "1bcee4f2-8e50-4f53-855d-3c97f4a328df",
   "metadata": {},
   "outputs": [],
   "source": [
    "mkup = pd.read_csv('../data/cscpopendata.csv')"
   ]
  },
  {
   "cell_type": "code",
   "execution_count": null,
   "id": "8dca1b58-750f-430e-a248-a24305f788e2",
   "metadata": {},
   "outputs": [],
   "source": [
    "mkup"
   ]
  },
  {
   "cell_type": "code",
   "execution_count": null,
   "id": "c3735ea6-cf06-4e3e-b10a-fae315f475c3",
   "metadata": {},
   "outputs": [],
   "source": [
    "cosmetics = pd.read_csv('../data/cosmetics.csv')"
   ]
  },
  {
   "cell_type": "code",
   "execution_count": null,
   "id": "dcd6aa90-62f1-4fde-b5f4-a86947df158d",
   "metadata": {},
   "outputs": [],
   "source": [
    "cosmetics"
   ]
  },
  {
   "cell_type": "code",
   "execution_count": null,
   "id": "41d3e985-dbdd-4a6f-bf24-9e0ffb482abd",
   "metadata": {},
   "outputs": [],
   "source": [
    "cosmetics.columns"
   ]
  },
  {
   "cell_type": "code",
   "execution_count": null,
   "id": "6a5cfa0e-9f16-4e5b-8672-1a8d29078996",
   "metadata": {},
   "outputs": [],
   "source": [
    "mkup.dtypes"
   ]
  },
  {
   "cell_type": "code",
   "execution_count": null,
   "id": "dc0f2794-e34f-483a-acc5-028ff101d7c2",
   "metadata": {},
   "outputs": [],
   "source": [
    "# checking for mising values\n",
    "mkup.isnull().sum()"
   ]
  },
  {
   "cell_type": "code",
   "execution_count": null,
   "id": "2bf7166d-d87f-4025-bfdb-0faf87339e61",
   "metadata": {},
   "outputs": [],
   "source": [
    "list = mkup[\"ChemicalName\"].unique()"
   ]
  },
  {
   "cell_type": "code",
   "execution_count": null,
   "id": "90b77d52-02ae-428d-bc98-245f0a58f9ed",
   "metadata": {},
   "outputs": [],
   "source": [
    "list"
   ]
  },
  {
   "cell_type": "code",
   "execution_count": null,
   "id": "e5d969a8-71e4-4014-8918-a0b2146c6f4e",
   "metadata": {},
   "outputs": [],
   "source": [
    "len(list)"
   ]
  },
  {
   "cell_type": "code",
   "execution_count": null,
   "id": "e407d4b4-85e5-451d-90d1-496852410c29",
   "metadata": {},
   "outputs": [],
   "source": [
    "mkup.info()"
   ]
  },
  {
   "cell_type": "code",
   "execution_count": null,
   "id": "bf1bf1ed-87b0-4cb2-88da-0ff72f4e80e0",
   "metadata": {},
   "outputs": [],
   "source": [
    "mkup.shape"
   ]
  },
  {
   "cell_type": "code",
   "execution_count": null,
   "id": "b8f413a7-7ef5-47f1-a0d1-41f90442446a",
   "metadata": {},
   "outputs": [],
   "source": [
    "mkup['InitialDateReported'] = pd.to_datetime(mkup['InitialDateReported'], format='%m/%d/%Y')"
   ]
  },
  {
   "cell_type": "code",
   "execution_count": null,
   "id": "02d2e600-7b48-445a-8d54-fd77bcefffe0",
   "metadata": {},
   "outputs": [],
   "source": [
    "mkup['DiscontinuedDate'] = pd.to_datetime(mkup['DiscontinuedDate'], format='%m/%d/%Y')"
   ]
  },
  {
   "cell_type": "code",
   "execution_count": null,
   "id": "ebd1a914-4343-4491-9cc8-f0fd6764efcc",
   "metadata": {},
   "outputs": [],
   "source": [
    "mkup['ChemicalCreatedAt'] = pd.to_datetime(mkup['ChemicalCreatedAt'], format='%m/%d/%Y')"
   ]
  },
  {
   "cell_type": "code",
   "execution_count": null,
   "id": "edf37bc3-106a-45b5-9288-3775d1d11bcf",
   "metadata": {},
   "outputs": [],
   "source": [
    "mkup['ChemicalDateRemoved'] = pd.to_datetime(mkup['ChemicalDateRemoved'], format='%m/%d/%Y')"
   ]
  },
  {
   "cell_type": "code",
   "execution_count": null,
   "id": "8034e2b4-3134-430f-ada4-e6619914e2c6",
   "metadata": {},
   "outputs": [],
   "source": [
    "mkup.dtypes"
   ]
  },
  {
   "cell_type": "code",
   "execution_count": null,
   "id": "2619526e-730f-4a96-ac02-9df34a5d7527",
   "metadata": {},
   "outputs": [],
   "source": [
    "mkup"
   ]
  },
  {
   "cell_type": "code",
   "execution_count": null,
   "id": "dc3d979e-9e63-4087-8eb4-13c33c67f93c",
   "metadata": {},
   "outputs": [],
   "source": [
    "# # Dropping the unnecessary colunms\n",
    "mkup = mkup.drop(columns = [\"CDPHId\", \"CSFId\", \"CompanyId\",\n",
    "                     \"PrimaryCategoryId\", \"SubCategoryId\", \"CasNumber\", \"CasId\", \"MostRecentDateReported\", \"ChemicalUpdatedAt\", \"ChemicalId\"])"
   ]
  },
  {
   "cell_type": "code",
   "execution_count": null,
   "id": "9a9520e8-0431-40ba-8322-16300c97be03",
   "metadata": {},
   "outputs": [],
   "source": [
    "mkup"
   ]
  },
  {
   "cell_type": "code",
   "execution_count": null,
   "id": "baa81dbe-8cad-4b65-9bc1-81fb13ad2d24",
   "metadata": {},
   "outputs": [],
   "source": [
    "# check the total rows and columns\n",
    "mkup.shape"
   ]
  },
  {
   "cell_type": "code",
   "execution_count": null,
   "id": "05a89b93-50ce-444b-bfe7-021abcdc4ebd",
   "metadata": {},
   "outputs": [],
   "source": [
    "mkup.isnull().sum()"
   ]
  },
  {
   "cell_type": "code",
   "execution_count": null,
   "id": "165764a5-f216-4d7d-ab87-2b1085f89991",
   "metadata": {},
   "outputs": [],
   "source": [
    "# checking duplicate rows\n",
    "mkup.duplicated().sum()"
   ]
  },
  {
   "cell_type": "code",
   "execution_count": null,
   "id": "475636e1-f8c6-48b2-a78b-ac344efeeeb6",
   "metadata": {},
   "outputs": [],
   "source": [
    "mkup.dtypes"
   ]
  },
  {
   "cell_type": "code",
   "execution_count": null,
   "id": "85405582-60c6-4c70-846a-4008ec5b78ef",
   "metadata": {},
   "outputs": [],
   "source": [
    "mkup.nunique()"
   ]
  },
  {
   "cell_type": "code",
   "execution_count": null,
   "id": "cb0c922f-54ba-4342-97f2-faf8c7d1dab8",
   "metadata": {},
   "outputs": [],
   "source": [
    "# checking columns names\n",
    "mkup.columns"
   ]
  },
  {
   "cell_type": "code",
   "execution_count": null,
   "id": "ba346e7d-b5ea-4884-95a4-bc5e4bc88034",
   "metadata": {},
   "outputs": [],
   "source": [
    "# dropping duplicates values\n",
    "# mkup.drop_duplicates(inplace=True)"
   ]
  },
  {
   "cell_type": "code",
   "execution_count": null,
   "id": "59838e0c-970e-4721-af5f-b257516a4eda",
   "metadata": {},
   "outputs": [],
   "source": [
    "# dropping duplicates values\n",
    "makup = mkup.drop_duplicates()"
   ]
  },
  {
   "cell_type": "code",
   "execution_count": null,
   "id": "14160727-ff0c-4861-af5e-3c8931ab2643",
   "metadata": {},
   "outputs": [],
   "source": [
    "mkup.duplicated().sum()"
   ]
  },
  {
   "cell_type": "code",
   "execution_count": null,
   "id": "9a0ad8cd-e5e5-481f-81fd-69ba921d222d",
   "metadata": {},
   "outputs": [],
   "source": [
    "mkup.shape"
   ]
  },
  {
   "cell_type": "code",
   "execution_count": null,
   "id": "3e47889b-49a8-4a3f-8314-83ae6bb0fc62",
   "metadata": {},
   "outputs": [],
   "source": [
    "mkup[\"CSF\"].unique()"
   ]
  },
  {
   "cell_type": "code",
   "execution_count": null,
   "id": "7c9ad4f6-710e-4d45-b281-1e47d4868d8d",
   "metadata": {},
   "outputs": [],
   "source": [
    "mkup[\"CSF\"].nunique()"
   ]
  },
  {
   "cell_type": "code",
   "execution_count": null,
   "id": "859ede2f-74ec-4566-8c79-a56f360e4342",
   "metadata": {},
   "outputs": [],
   "source": [
    "# Which product category has the highest average number of chemicals per product?"
   ]
  },
  {
   "cell_type": "code",
   "execution_count": null,
   "id": "9bd38742-9175-4ba8-93c1-bcf87c7fb0b0",
   "metadata": {},
   "outputs": [],
   "source": [
    "category_highest_average_makup = mkup.groupby(\"ProductName\")[\"PrimaryCategory\"].value_counts()"
   ]
  },
  {
   "cell_type": "code",
   "execution_count": null,
   "id": "255996b0-7d10-48bc-acac-1c48ba4a4ea8",
   "metadata": {},
   "outputs": [],
   "source": [
    "category_highest_average_makup.reset_index()"
   ]
  },
  {
   "cell_type": "code",
   "execution_count": null,
   "id": "f5fdd1b0-0328-4db8-9b76-dc36f4a5ff20",
   "metadata": {},
   "outputs": [],
   "source": [
    "category_highest_average = category_highest_average_makup.mean()"
   ]
  },
  {
   "cell_type": "code",
   "execution_count": null,
   "id": "4898f231-4105-43a6-ad55-8386b30b09a5",
   "metadata": {},
   "outputs": [],
   "source": [
    "category_highest_average"
   ]
  },
  {
   "cell_type": "code",
   "execution_count": null,
   "id": "400ce5ad-1de1-4a47-ae5f-04fbdcd5ea53",
   "metadata": {},
   "outputs": [],
   "source": [
    "# Which product has the highest number of chemicals associated with it?"
   ]
  },
  {
   "cell_type": "code",
   "execution_count": null,
   "id": "86b2f94f-e4f1-4111-85ce-f318f2fd1d85",
   "metadata": {},
   "outputs": [],
   "source": [
    "mkup.loc[mkup[\"ChemicalCount\"].idxmax()]"
   ]
  },
  {
   "cell_type": "code",
   "execution_count": null,
   "id": "f3c247eb-6760-43b5-a5b9-379859bcafdb",
   "metadata": {},
   "outputs": [],
   "source": [
    "high_chemical_mkup = mkup.sort_values(by = \"ChemicalCount\", ascending = False)"
   ]
  },
  {
   "cell_type": "code",
   "execution_count": null,
   "id": "afc84152-6a20-418d-ac1e-1841ddf1a847",
   "metadata": {},
   "outputs": [],
   "source": [
    "high_chemical_mkup"
   ]
  },
  {
   "cell_type": "code",
   "execution_count": null,
   "id": "6652dcd1-2120-40ac-bbc3-d3a5ce7c1c90",
   "metadata": {},
   "outputs": [],
   "source": [
    "#1 Which categories has the highest number of chemicals associated with it?"
   ]
  },
  {
   "cell_type": "code",
   "execution_count": null,
   "id": "74fd0b2c-5ba8-49c7-8e37-599dff761fac",
   "metadata": {},
   "outputs": [],
   "source": [
    "mkup.head(2)"
   ]
  },
  {
   "cell_type": "code",
   "execution_count": null,
   "id": "fb798e92-1257-4446-aca8-e19cdb39925a",
   "metadata": {},
   "outputs": [],
   "source": [
    "mkup.groupby(\"PrimaryCategory\")[\"ChemicalCount\"].idxmax()"
   ]
  },
  {
   "cell_type": "code",
   "execution_count": null,
   "id": "13e38238-dd4a-4193-b8b4-b08a6baa8f9f",
   "metadata": {},
   "outputs": [],
   "source": [
    "max_idx = mkup.groupby(\"PrimaryCategory\")[\"ChemicalCount\"].idxmax()"
   ]
  },
  {
   "cell_type": "code",
   "execution_count": null,
   "id": "a7fa9cd6-1b1d-4ed5-865e-ac5c07139890",
   "metadata": {},
   "outputs": [],
   "source": [
    "max_idx.reset_index().sort_values(by = \"ChemicalCount\", ascending = False)"
   ]
  },
  {
   "cell_type": "code",
   "execution_count": null,
   "id": "5e093059-0aba-4b84-9363-2fd283408bf2",
   "metadata": {},
   "outputs": [],
   "source": [
    "# What is the distribution of discontinued products across different categories?"
   ]
  },
  {
   "cell_type": "code",
   "execution_count": null,
   "id": "b8c7bc9e-2b52-4126-b7e9-23b2bebe783a",
   "metadata": {},
   "outputs": [],
   "source": [
    "distribution_discontinued_products = mkup.groupby(\"SubCategory\")[\"DiscontinuedDate\"].value_counts()"
   ]
  },
  {
   "cell_type": "code",
   "execution_count": null,
   "id": "fd2c7bbd-02e1-41a5-a546-a5df43c5f122",
   "metadata": {},
   "outputs": [],
   "source": [
    "distribution_discontinued_products.reset_index()"
   ]
  },
  {
   "cell_type": "code",
   "execution_count": null,
   "id": "7fe12a95-e16d-4d81-9c90-918b4bccac9b",
   "metadata": {},
   "outputs": [],
   "source": []
  }
 ],
 "metadata": {
  "kernelspec": {
   "display_name": "Python 3 (ipykernel)",
   "language": "python",
   "name": "python3"
  },
  "language_info": {
   "codemirror_mode": {
    "name": "ipython",
    "version": 3
   },
   "file_extension": ".py",
   "mimetype": "text/x-python",
   "name": "python",
   "nbconvert_exporter": "python",
   "pygments_lexer": "ipython3",
   "version": "3.12.4"
  }
 },
 "nbformat": 4,
 "nbformat_minor": 5
}
