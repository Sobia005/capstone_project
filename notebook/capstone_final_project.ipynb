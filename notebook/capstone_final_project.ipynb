{
 "cells": [
  {
   "cell_type": "code",
   "execution_count": null,
   "id": "c5d065a3-5bac-43cc-8fa3-d9fdbe9b4825",
   "metadata": {},
   "outputs": [],
   "source": [
    "import pandas as pd\n",
    "import numpy as np\n",
    "import matplotlib.pyplot as plt\n",
    "import seaborn as sns"
   ]
  },
  {
   "cell_type": "code",
   "execution_count": null,
   "id": "1bcee4f2-8e50-4f53-855d-3c97f4a328df",
   "metadata": {},
   "outputs": [],
   "source": [
    "mkup = pd.read_csv('../data/cscpopendata.csv')"
   ]
  },
  {
   "cell_type": "code",
   "execution_count": null,
   "id": "8dca1b58-750f-430e-a248-a24305f788e2",
   "metadata": {},
   "outputs": [],
   "source": [
    "mkup.head()"
   ]
  },
  {
   "cell_type": "code",
   "execution_count": null,
   "id": "9e4d48ba-aa81-462c-a461-11c740ab9f53",
   "metadata": {},
   "outputs": [],
   "source": [
    "# pd.set_option(\"display.max_columns\", 999)"
   ]
  },
  {
   "cell_type": "code",
   "execution_count": null,
   "id": "b66a63fe-1167-49eb-a724-02dd7cc018e2",
   "metadata": {},
   "outputs": [],
   "source": [
    "mkup.head()"
   ]
  },
  {
   "cell_type": "code",
   "execution_count": null,
   "id": "c3735ea6-cf06-4e3e-b10a-fae315f475c3",
   "metadata": {},
   "outputs": [],
   "source": [
    "cosmetics = pd.read_csv('../data/cosmetics.csv')"
   ]
  },
  {
   "cell_type": "code",
   "execution_count": null,
   "id": "dcd6aa90-62f1-4fde-b5f4-a86947df158d",
   "metadata": {},
   "outputs": [],
   "source": [
    "cosmetics"
   ]
  },
  {
   "cell_type": "code",
   "execution_count": null,
   "id": "41d3e985-dbdd-4a6f-bf24-9e0ffb482abd",
   "metadata": {},
   "outputs": [],
   "source": [
    "cosmetics.columns"
   ]
  },
  {
   "cell_type": "code",
   "execution_count": null,
   "id": "6a5cfa0e-9f16-4e5b-8672-1a8d29078996",
   "metadata": {},
   "outputs": [],
   "source": [
    "mkup.dtypes"
   ]
  },
  {
   "cell_type": "code",
   "execution_count": null,
   "id": "dc0f2794-e34f-483a-acc5-028ff101d7c2",
   "metadata": {},
   "outputs": [],
   "source": [
    "# checking for mising values\n",
    "mkup.isnull().sum()"
   ]
  },
  {
   "cell_type": "code",
   "execution_count": null,
   "id": "2bf7166d-d87f-4025-bfdb-0faf87339e61",
   "metadata": {},
   "outputs": [],
   "source": [
    "list = mkup[\"ChemicalName\"].unique()"
   ]
  },
  {
   "cell_type": "code",
   "execution_count": null,
   "id": "90b77d52-02ae-428d-bc98-245f0a58f9ed",
   "metadata": {},
   "outputs": [],
   "source": [
    "list"
   ]
  },
  {
   "cell_type": "code",
   "execution_count": null,
   "id": "e5d969a8-71e4-4014-8918-a0b2146c6f4e",
   "metadata": {},
   "outputs": [],
   "source": [
    "len(list)"
   ]
  },
  {
   "cell_type": "code",
   "execution_count": null,
   "id": "e407d4b4-85e5-451d-90d1-496852410c29",
   "metadata": {},
   "outputs": [],
   "source": [
    "mkup.info()"
   ]
  },
  {
   "cell_type": "code",
   "execution_count": null,
   "id": "bf1bf1ed-87b0-4cb2-88da-0ff72f4e80e0",
   "metadata": {},
   "outputs": [],
   "source": [
    "mkup.shape"
   ]
  },
  {
   "cell_type": "code",
   "execution_count": null,
   "id": "b8f413a7-7ef5-47f1-a0d1-41f90442446a",
   "metadata": {},
   "outputs": [],
   "source": [
    "mkup['InitialDateReported'] = pd.to_datetime(mkup['InitialDateReported'], format='%m/%d/%Y')"
   ]
  },
  {
   "cell_type": "code",
   "execution_count": null,
   "id": "02d2e600-7b48-445a-8d54-fd77bcefffe0",
   "metadata": {},
   "outputs": [],
   "source": [
    "mkup['DiscontinuedDate'] = pd.to_datetime(mkup['DiscontinuedDate'], format='%m/%d/%Y')"
   ]
  },
  {
   "cell_type": "code",
   "execution_count": null,
   "id": "ebd1a914-4343-4491-9cc8-f0fd6764efcc",
   "metadata": {},
   "outputs": [],
   "source": [
    "mkup['ChemicalCreatedAt'] = pd.to_datetime(mkup['ChemicalCreatedAt'], format='%m/%d/%Y')"
   ]
  },
  {
   "cell_type": "code",
   "execution_count": null,
   "id": "edf37bc3-106a-45b5-9288-3775d1d11bcf",
   "metadata": {},
   "outputs": [],
   "source": [
    "mkup['ChemicalDateRemoved'] = pd.to_datetime(mkup['ChemicalDateRemoved'], format='%m/%d/%Y')"
   ]
  },
  {
   "cell_type": "code",
   "execution_count": null,
   "id": "8034e2b4-3134-430f-ada4-e6619914e2c6",
   "metadata": {},
   "outputs": [],
   "source": [
    "mkup.dtypes"
   ]
  },
  {
   "cell_type": "code",
   "execution_count": null,
   "id": "dc3d979e-9e63-4087-8eb4-13c33c67f93c",
   "metadata": {},
   "outputs": [],
   "source": [
    "# # Dropping the unnecessary colunms\n",
    "mkup = mkup.drop(columns = [\"CSFId\", \"CSF\", \"CompanyId\",\n",
    "                     \"PrimaryCategoryId\", \"SubCategoryId\", \"CasNumber\", \"CasId\", \"MostRecentDateReported\", \"ChemicalUpdatedAt\", \"ChemicalId\"])"
   ]
  },
  {
   "cell_type": "code",
   "execution_count": null,
   "id": "9a9520e8-0431-40ba-8322-16300c97be03",
   "metadata": {},
   "outputs": [],
   "source": [
    "mkup.head()"
   ]
  },
  {
   "cell_type": "code",
   "execution_count": null,
   "id": "baa81dbe-8cad-4b65-9bc1-81fb13ad2d24",
   "metadata": {},
   "outputs": [],
   "source": [
    "# check the total rows and columns\n",
    "mkup.shape"
   ]
  },
  {
   "cell_type": "code",
   "execution_count": null,
   "id": "05a89b93-50ce-444b-bfe7-021abcdc4ebd",
   "metadata": {},
   "outputs": [],
   "source": [
    "mkup.isnull().sum()"
   ]
  },
  {
   "cell_type": "code",
   "execution_count": null,
   "id": "165764a5-f216-4d7d-ab87-2b1085f89991",
   "metadata": {},
   "outputs": [],
   "source": [
    "# checking duplicate rows\n",
    "mkup.duplicated().sum()"
   ]
  },
  {
   "cell_type": "code",
   "execution_count": null,
   "id": "475636e1-f8c6-48b2-a78b-ac344efeeeb6",
   "metadata": {},
   "outputs": [],
   "source": [
    "mkup.dtypes"
   ]
  },
  {
   "cell_type": "code",
   "execution_count": null,
   "id": "85405582-60c6-4c70-846a-4008ec5b78ef",
   "metadata": {},
   "outputs": [],
   "source": [
    "mkup.nunique()"
   ]
  },
  {
   "cell_type": "code",
   "execution_count": null,
   "id": "cb0c922f-54ba-4342-97f2-faf8c7d1dab8",
   "metadata": {},
   "outputs": [],
   "source": [
    "# checking columns names\n",
    "mkup.columns"
   ]
  },
  {
   "cell_type": "code",
   "execution_count": null,
   "id": "ba346e7d-b5ea-4884-95a4-bc5e4bc88034",
   "metadata": {},
   "outputs": [],
   "source": [
    "# dropping duplicates values\n",
    "# mkup.drop_duplicates(inplace=True)"
   ]
  },
  {
   "cell_type": "code",
   "execution_count": null,
   "id": "44f3e6cd-5161-4a15-8315-08a80b659fa5",
   "metadata": {},
   "outputs": [],
   "source": [
    "mkup.head()"
   ]
  },
  {
   "cell_type": "code",
   "execution_count": null,
   "id": "eacde3e3-cc8d-4c25-a90d-e812c1acfd59",
   "metadata": {},
   "outputs": [],
   "source": [
    "mkup.duplicated().sum()"
   ]
  },
  {
   "cell_type": "code",
   "execution_count": null,
   "id": "59838e0c-970e-4721-af5f-b257516a4eda",
   "metadata": {},
   "outputs": [],
   "source": [
    "# dropping duplicates values\n",
    "mkup = mkup.drop_duplicates()"
   ]
  },
  {
   "cell_type": "code",
   "execution_count": null,
   "id": "14160727-ff0c-4861-af5e-3c8931ab2643",
   "metadata": {},
   "outputs": [],
   "source": [
    "mkup.duplicated().sum()"
   ]
  },
  {
   "cell_type": "code",
   "execution_count": null,
   "id": "9a0ad8cd-e5e5-481f-81fd-69ba921d222d",
   "metadata": {},
   "outputs": [],
   "source": [
    "mkup.shape"
   ]
  },
  {
   "cell_type": "code",
   "execution_count": null,
   "id": "d7f1ca4c-f268-479b-b689-133c723c3aea",
   "metadata": {},
   "outputs": [],
   "source": [
    "new_data2 = mkup.groupby(['ProductName', 'BrandName', 'CompanyName', 'PrimaryCategory', 'SubCategory', 'InitialDateReported', 'DiscontinuedDate', 'ChemicalCreatedAt', \n",
    "                           'ChemicalDateRemoved', 'ChemicalCount'],dropna=False)['ChemicalName'].apply(lambda x: ', '.join(x)).reset_index()"
   ]
  },
  {
   "cell_type": "code",
   "execution_count": null,
   "id": "4ead0766-1e0f-4bc5-92f8-ca446b7d3f59",
   "metadata": {},
   "outputs": [],
   "source": [
    "new_data2.head()"
   ]
  },
  {
   "cell_type": "code",
   "execution_count": null,
   "id": "6ee680d5-9e71-4d88-a3fb-73319f7bb0c1",
   "metadata": {},
   "outputs": [],
   "source": [
    "# new_data2.to_csv(\"new_data2.csv\", index=False)"
   ]
  },
  {
   "cell_type": "code",
   "execution_count": null,
   "id": "89f81e33-f008-468f-83ba-d9d8f8109668",
   "metadata": {},
   "outputs": [],
   "source": [
    "# checking to see how many products contain Titanium dioxide. in the entire df 35132 out of 41408 = Only 6276 products do not contain Titanium dioxide\n",
    "Titanium_dioxide = new_data2[new_data2['ChemicalName'].str.contains('Titanium dioxide',case=False, na=False)]"
   ]
  },
  {
   "cell_type": "code",
   "execution_count": null,
   "id": "c1621a9c-7f9a-4a9b-81a3-d6635635632c",
   "metadata": {},
   "outputs": [],
   "source": [
    "# Titanium_dioxide.to_csv(\"Titanium_dioxide.csv\", index=False)"
   ]
  },
  {
   "cell_type": "code",
   "execution_count": null,
   "id": "3e47889b-49a8-4a3f-8314-83ae6bb0fc62",
   "metadata": {},
   "outputs": [],
   "source": [
    "# mkup[\"CSF\"].unique()"
   ]
  },
  {
   "cell_type": "code",
   "execution_count": null,
   "id": "7c9ad4f6-710e-4d45-b281-1e47d4868d8d",
   "metadata": {},
   "outputs": [],
   "source": [
    "# mkup[\"CSF\"].nunique()"
   ]
  },
  {
   "cell_type": "markdown",
   "id": "db37ccbe-217f-42c6-85ab-2e765455fb98",
   "metadata": {},
   "source": [
    "# Q1- total numbers of chemicals counts "
   ]
  },
  {
   "cell_type": "code",
   "execution_count": null,
   "id": "41049a65-4bb1-424a-b512-7e01fa799d60",
   "metadata": {},
   "outputs": [],
   "source": [
    "chemical_counts = new_data2['ChemicalName'].value_counts().reset_index()"
   ]
  },
  {
   "cell_type": "code",
   "execution_count": null,
   "id": "81bd8590-c0ba-45c6-90ce-c50055021ce5",
   "metadata": {},
   "outputs": [],
   "source": [
    "chemical_counts.head(20)"
   ]
  },
  {
   "cell_type": "code",
   "execution_count": null,
   "id": "410437f6-3496-4caf-b56d-d1bfa7fa4a5e",
   "metadata": {},
   "outputs": [],
   "source": [
    "# chemical_counts.to_csv(\"chemical_counts.csv\")"
   ]
  },
  {
   "cell_type": "code",
   "execution_count": null,
   "id": "63bb3dd1-13eb-4974-af18-2074da59a8eb",
   "metadata": {},
   "outputs": [],
   "source": [
    "# mkup[mkup[\"ProductName\"] == \"Moisturizing Shampoo\"]"
   ]
  },
  {
   "cell_type": "code",
   "execution_count": null,
   "id": "e4b92629-9462-469c-a97e-6a911115d614",
   "metadata": {},
   "outputs": [],
   "source": [
    "# chemical_counts = mkup[['ProductName', 'CompanyName', 'BrandName', 'ChemicalCount']].drop_duplicates()"
   ]
  },
  {
   "cell_type": "code",
   "execution_count": null,
   "id": "fc12e93b-c364-4d7f-9b6b-1b56ab3fb824",
   "metadata": {},
   "outputs": [],
   "source": [
    "# chemical_counts"
   ]
  },
  {
   "cell_type": "code",
   "execution_count": null,
   "id": "37cb7c5a-133b-4eda-aad0-e5bdc90d43ee",
   "metadata": {},
   "outputs": [],
   "source": [
    "# https://stackoverflow.com/questions/27174009/python-pandas-concatenate-rows-with-unique-values"
   ]
  },
  {
   "cell_type": "code",
   "execution_count": null,
   "id": "20fc804f-82ea-4794-b1bc-83c34b7500d0",
   "metadata": {},
   "outputs": [],
   "source": [
    "# new_df = chemical_counts.merge(mkup[['ProductName', 'CompanyName', 'BrandName', 'ChemicalName', 'PrimaryCategory']],\n",
    "#                                                   left_on=['ProductName', 'CompanyName', 'BrandName'],\n",
    "#                                                   right_on=['ProductName', 'CompanyName', 'BrandName']).drop_duplicates()"
   ]
  },
  {
   "cell_type": "code",
   "execution_count": null,
   "id": "30d43eb5-a0bb-4628-8424-6df15aa4a326",
   "metadata": {},
   "outputs": [],
   "source": [
    "# new_data = new_df.groupby(['ProductName', 'BrandName', 'CompanyName', 'PrimaryCategory'])['ChemicalName'].apply(lambda x: ', '.join(x)).reset_index()"
   ]
  },
  {
   "cell_type": "code",
   "execution_count": null,
   "id": "d269d4fa-9848-463d-97e9-5d5dc23f4443",
   "metadata": {},
   "outputs": [],
   "source": [
    "new_data2.isnull().sum()"
   ]
  },
  {
   "cell_type": "code",
   "execution_count": null,
   "id": "e4e4c1f2-d6ed-4d46-b250-766d91728589",
   "metadata": {},
   "outputs": [],
   "source": [
    "new_data2.duplicated().sum()"
   ]
  },
  {
   "cell_type": "code",
   "execution_count": null,
   "id": "583b1238-10d1-4963-90b1-f5434f4b0bbd",
   "metadata": {},
   "outputs": [],
   "source": [
    "new_data2.dtypes"
   ]
  },
  {
   "cell_type": "code",
   "execution_count": null,
   "id": "06ee8268-568f-4200-aba7-2e3252ae5980",
   "metadata": {},
   "outputs": [],
   "source": [
    "new_data2.info()"
   ]
  },
  {
   "cell_type": "code",
   "execution_count": null,
   "id": "24b44adb-b0c9-4c18-8671-960e8e4ca144",
   "metadata": {},
   "outputs": [],
   "source": [
    "new_data2[(new_data2['ProductName'] == 'Moisturizing Shampoo')]"
   ]
  },
  {
   "cell_type": "code",
   "execution_count": null,
   "id": "44db5f31-7d20-49c3-96e2-4228d8e0b6f2",
   "metadata": {},
   "outputs": [],
   "source": [
    "# new_data[new_data['ChemicalName'].str.contains('Titanium dioxide',case=False, na=False)]"
   ]
  },
  {
   "cell_type": "code",
   "execution_count": null,
   "id": "fb990a9f-860c-4e66-b6e8-23d5c48e8e4a",
   "metadata": {},
   "outputs": [],
   "source": [
    "new_data2[(new_data2['ProductName'] == 'ROUGE DIOR Couleur Eclatante Hydratation et Galbe Replenishing LipColor')]"
   ]
  },
  {
   "cell_type": "code",
   "execution_count": null,
   "id": "e963041c-da67-4fff-b043-ffa258593f90",
   "metadata": {},
   "outputs": [],
   "source": [
    "# makup2 = mkup"
   ]
  },
  {
   "cell_type": "code",
   "execution_count": null,
   "id": "0da08f6c-1294-407d-b635-99d30bfb26b0",
   "metadata": {},
   "outputs": [],
   "source": [
    "# # the total numbers of rows don't match with new_data rows?\n",
    "# makup2 = mkup2.merge(new_data[['ProductName', 'CompanyName', 'BrandName']],\n",
    "#                                                   left_on=['ProductName', 'CompanyName', 'BrandName'],\n",
    "#                                                   right_on=['ProductName', 'CompanyName', 'BrandName']).drop_duplicates()"
   ]
  },
  {
   "cell_type": "code",
   "execution_count": null,
   "id": "2eb5d063-7e48-479f-8288-e674e6c2db96",
   "metadata": {},
   "outputs": [],
   "source": [
    "# # i'm trying another way but this give me duplicates columns\n",
    "# new_data.merge( mkup2,  on=['ProductName', 'CompanyName', 'BrandName'],  how='left' ).drop_duplicates()"
   ]
  },
  {
   "cell_type": "code",
   "execution_count": null,
   "id": "3f7cb4d3-eeab-4da3-b067-d10dbceb2d69",
   "metadata": {},
   "outputs": [],
   "source": [
    "# m = mkup.groupby(['ProductName', 'BrandName', 'CompanyName']).agg({\n",
    "#     'ChemicalName': lambda col: ', '.join(col)}).reset_index()"
   ]
  },
  {
   "cell_type": "code",
   "execution_count": null,
   "id": "a45fee02-13ae-48aa-99a5-a9f47d6519ca",
   "metadata": {},
   "outputs": [],
   "source": [
    "# m.ChemicalName.value_counts()"
   ]
  },
  {
   "cell_type": "code",
   "execution_count": null,
   "id": "af470630-99ab-4b93-a641-333cae08d6d7",
   "metadata": {},
   "outputs": [],
   "source": [
    "# m[m[\"ChemicalName\"] == \"Titanium dioxide\"]"
   ]
  },
  {
   "cell_type": "code",
   "execution_count": null,
   "id": "ef016e01-9987-45fd-8c36-26a69aa4cdcc",
   "metadata": {},
   "outputs": [],
   "source": [
    "# https://stackoverflow.com/questions/27975069/how-to-filter-rows-containing-a-string-pattern-from-a-pandas-dataframe"
   ]
  },
  {
   "cell_type": "code",
   "execution_count": null,
   "id": "1f575a98-38a3-412d-a812-3f1d6f752518",
   "metadata": {},
   "outputs": [],
   "source": [
    "# df[df['ids'].str.contains(\"ball\")]\n",
    "# m[m[\"ChemicalName\"].str.contains(\"Titanium dioxide\")]"
   ]
  },
  {
   "cell_type": "markdown",
   "id": "5da98ed5-39c3-47a7-b3a3-ad1ff20ec754",
   "metadata": {},
   "source": [
    "# Q2- Are newer products less likely to contain hazardous chemicals compared to older ones?"
   ]
  },
  {
   "cell_type": "code",
   "execution_count": null,
   "id": "44088218-a0ae-478e-8346-068df1f1c6a2",
   "metadata": {},
   "outputs": [],
   "source": [
    "new_data2['ChemicalCreatedAt'].dt.year.value_counts().sort_index()"
   ]
  },
  {
   "cell_type": "code",
   "execution_count": null,
   "id": "bc2d9710-7705-4d0e-a836-03ae7168a7ba",
   "metadata": {},
   "outputs": [],
   "source": [
    "new_data2['year']=new_data2['InitialDateReported'].dt.year.sort_values()"
   ]
  },
  {
   "cell_type": "code",
   "execution_count": null,
   "id": "70d75750-ad86-4f44-9628-91a6ff75317d",
   "metadata": {},
   "outputs": [],
   "source": [
    "# before_2015 =new_data2[(new_data2['DiscontinuedDate'].isna()) & (new_data2['year']< 2015)]"
   ]
  },
  {
   "cell_type": "code",
   "execution_count": null,
   "id": "2d1311d7-66da-4158-975e-d08ff533a040",
   "metadata": {},
   "outputs": [],
   "source": [
    "# after_2015=new_data2[(new_data2['DiscontinuedDate'].isna()) & (new_data2['year'] >2015)]"
   ]
  },
  {
   "cell_type": "markdown",
   "id": "e9366eee-4065-4f21-9411-b43b4b084ddd",
   "metadata": {},
   "source": [
    "# Q3- How long do products containing hazardous chemicals stay on the market before being discontinued or reformulated?"
   ]
  },
  {
   "cell_type": "code",
   "execution_count": null,
   "id": "85bb3bc4-5cd9-4b08-ae86-4cd5a70d3318",
   "metadata": {},
   "outputs": [],
   "source": []
  },
  {
   "cell_type": "markdown",
   "id": "25d1030c-9da4-4212-b2d2-76b5ff7f6ad1",
   "metadata": {},
   "source": [
    "# Q4- Are certain hazardous chemicals more common in specific types of cosmetics?"
   ]
  },
  {
   "cell_type": "code",
   "execution_count": null,
   "id": "f8b6deca-1bba-4bb4-a154-955680b0b624",
   "metadata": {},
   "outputs": [],
   "source": []
  },
  {
   "cell_type": "markdown",
   "id": "52562980-061b-42e4-8b5c-93a559de2638",
   "metadata": {},
   "source": [
    "# Q5- Are companies removing harmful chemicals over time, or are they continuing to use them?"
   ]
  },
  {
   "cell_type": "code",
   "execution_count": null,
   "id": "265c03ab-4604-495b-95a7-b445b6c5e72e",
   "metadata": {},
   "outputs": [],
   "source": [
    "# trying to see how many chemicals still in use and how many removed. True - chemicals removed, False- chemical still use\n",
    "new_data2['ChemicalDateRemoved'].notna().value_counts()"
   ]
  },
  {
   "cell_type": "code",
   "execution_count": null,
   "id": "69b8ad65-239a-4e70-a9e0-d4607b73ad71",
   "metadata": {},
   "outputs": [],
   "source": [
    "# adding a column to get just the yr for eachrow\n",
    "new_data2['created_yr'] = new_data2['ChemicalCreatedAt'].dt.year"
   ]
  },
  {
   "cell_type": "code",
   "execution_count": null,
   "id": "c9b1289b-ca1b-46dc-90e5-b78792d05c1e",
   "metadata": {},
   "outputs": [],
   "source": [
    "# adding a column to get yr for removed\n",
    "new_data2['removed_yr'] = new_data2['ChemicalDateRemoved'].dt.year"
   ]
  },
  {
   "cell_type": "code",
   "execution_count": null,
   "id": "afed670a-b86c-4cf7-abc2-284946358705",
   "metadata": {},
   "outputs": [],
   "source": [
    "# grouping by created_yr column to see how many product were first reported\n",
    "created_yr = new_data2.groupby('created_yr')['ProductName'].count()"
   ]
  },
  {
   "cell_type": "code",
   "execution_count": null,
   "id": "27fb1609-8ca4-44e9-bd79-3a8806b2270e",
   "metadata": {},
   "outputs": [],
   "source": [
    "created_yr"
   ]
  },
  {
   "cell_type": "code",
   "execution_count": null,
   "id": "791def21-5238-4f2a-ab2f-d90d1033b7fd",
   "metadata": {},
   "outputs": [],
   "source": [
    "yearly_reporting_trend = new_data2.groupby(['created_yr', 'BrandName', 'ProductName']).size().reset_index(name='chemical_count')"
   ]
  },
  {
   "cell_type": "code",
   "execution_count": null,
   "id": "f69c6efb-88c2-4ca7-b0b1-3c61d7a2da24",
   "metadata": {},
   "outputs": [],
   "source": [
    "yearly_reporting_trend.head()"
   ]
  },
  {
   "cell_type": "code",
   "execution_count": null,
   "id": "65f676e3-20b1-4951-8036-79cfcb7994ba",
   "metadata": {},
   "outputs": [],
   "source": [
    "# yearly_reporting_trend.to_csv(\"yearly_reporting_trend.csv\")"
   ]
  },
  {
   "cell_type": "code",
   "execution_count": null,
   "id": "07a7b26f-7099-4bca-83b9-fd0884b7208f",
   "metadata": {},
   "outputs": [],
   "source": [
    "# new_data2.groupby(['created_yr', 'BrandName']).size().reset_index(name='count')"
   ]
  },
  {
   "cell_type": "code",
   "execution_count": null,
   "id": "46412f03-ed8e-44e8-a0cd-a69d75340c36",
   "metadata": {},
   "outputs": [],
   "source": [
    "# created_yr.to_csv(\"created_yr.csv\")"
   ]
  },
  {
   "cell_type": "code",
   "execution_count": null,
   "id": "81bd53c3-a5ed-45a2-83de-e0a9e4b5d145",
   "metadata": {},
   "outputs": [],
   "source": [
    "# grouping by removed_yr column to see how many product removed by year\n",
    "removed_yr = new_data2.groupby('removed_yr')['ProductName'].count()"
   ]
  },
  {
   "cell_type": "code",
   "execution_count": null,
   "id": "dbd792f9-fe3f-48eb-a976-b96768ad8d3a",
   "metadata": {},
   "outputs": [],
   "source": [
    "removed_yr"
   ]
  },
  {
   "cell_type": "code",
   "execution_count": null,
   "id": "8b0ff78f-d3f7-43ba-b3b2-9a1b0895b3e8",
   "metadata": {},
   "outputs": [],
   "source": [
    "yearly_removing_trend = new_data2.groupby(['removed_yr', 'BrandName', 'ProductName']).size().reset_index(name='chemical_count')"
   ]
  },
  {
   "cell_type": "code",
   "execution_count": null,
   "id": "b3e9cdc8-e3bb-4a5a-b2ac-d1af64da314d",
   "metadata": {},
   "outputs": [],
   "source": [
    "yearly_removing_trend.head()"
   ]
  },
  {
   "cell_type": "code",
   "execution_count": null,
   "id": "c0eed65f-2de2-4650-858e-48df57b653c4",
   "metadata": {},
   "outputs": [],
   "source": [
    "# yearly_removing_trend.to_csv(\"yearly_removing_trend.csv\")"
   ]
  },
  {
   "cell_type": "code",
   "execution_count": null,
   "id": "b6f5cb0d-5699-45eb-9802-5435a63498a6",
   "metadata": {},
   "outputs": [],
   "source": [
    "# removed_yr.to_csv(\"removed_yr.csv\")"
   ]
  },
  {
   "cell_type": "code",
   "execution_count": null,
   "id": "1453811f-2232-418f-87cd-0c1b217f76e6",
   "metadata": {},
   "outputs": [],
   "source": [
    "# mkup[mkup[\"removed_yr\"] == \"winter wish list eye set palette\"]"
   ]
  },
  {
   "cell_type": "code",
   "execution_count": null,
   "id": "5369c9eb-9c59-4c7a-be14-fdccd463dc9d",
   "metadata": {},
   "outputs": [],
   "source": [
    "# mkup[mkup[\"CompanyName\"] == \"Apollo Health and Beauty Care\"]"
   ]
  },
  {
   "cell_type": "markdown",
   "id": "dc751c2c-22b7-4e5c-a642-3fd93a22b9e6",
   "metadata": {},
   "source": [
    "# Q6- Which PrimaryCategory has the highest number of chemicals associated with it?"
   ]
  },
  {
   "cell_type": "code",
   "execution_count": null,
   "id": "74fd0b2c-5ba8-49c7-8e37-599dff761fac",
   "metadata": {},
   "outputs": [],
   "source": [
    "new_data2.head(2)"
   ]
  },
  {
   "cell_type": "code",
   "execution_count": null,
   "id": "fb798e92-1257-4446-aca8-e19cdb39925a",
   "metadata": {},
   "outputs": [],
   "source": [
    "new_data2.groupby(\"PrimaryCategory\")[\"ChemicalCount\"].idxmax()"
   ]
  },
  {
   "cell_type": "code",
   "execution_count": null,
   "id": "13e38238-dd4a-4193-b8b4-b08a6baa8f9f",
   "metadata": {},
   "outputs": [],
   "source": [
    "max_idx = new_data2.groupby(\"PrimaryCategory\")[\"ChemicalCount\"].idxmax() "
   ]
  },
  {
   "cell_type": "code",
   "execution_count": null,
   "id": "a7fa9cd6-1b1d-4ed5-865e-ac5c07139890",
   "metadata": {},
   "outputs": [],
   "source": [
    "max_idxmax = max_idx.reset_index().sort_values(by = \"ChemicalCount\", ascending = False)"
   ]
  },
  {
   "cell_type": "code",
   "execution_count": null,
   "id": "23e5dc3f-85bb-4aec-a1c8-c8b40738cf19",
   "metadata": {},
   "outputs": [],
   "source": [
    "max_idxmax"
   ]
  },
  {
   "cell_type": "code",
   "execution_count": null,
   "id": "cdbf1e96-2674-47be-b137-48380cf561c4",
   "metadata": {},
   "outputs": [],
   "source": [
    "# max_idxmax.to_csv(\"max_idxmax.csv\")"
   ]
  },
  {
   "cell_type": "markdown",
   "id": "b86d8884-4b6b-4e0c-a975-e12318066c40",
   "metadata": {},
   "source": [
    "# Q7- What is the distribution of discontinued products across different categories?"
   ]
  },
  {
   "cell_type": "code",
   "execution_count": null,
   "id": "b8c7bc9e-2b52-4126-b7e9-23b2bebe783a",
   "metadata": {},
   "outputs": [],
   "source": [
    "distribution_discontinued_products = new_data2.groupby(\"SubCategory\")[\"DiscontinuedDate\"].value_counts()"
   ]
  },
  {
   "cell_type": "code",
   "execution_count": null,
   "id": "fd2c7bbd-02e1-41a5-a546-a5df43c5f122",
   "metadata": {},
   "outputs": [],
   "source": [
    "distribution_discontinued_products.reset_index()"
   ]
  },
  {
   "cell_type": "code",
   "execution_count": null,
   "id": "7fe12a95-e16d-4d81-9c90-918b4bccac9b",
   "metadata": {},
   "outputs": [],
   "source": [
    "# Which chemicals discontinued\n",
    "# notna filters the rows where the discountinued date is not null\n",
    "discontinued_chemicals = new_data2[new_data2[\"DiscontinuedDate\"].notna()]"
   ]
  },
  {
   "cell_type": "code",
   "execution_count": null,
   "id": "63babbcd-9c31-4d7b-ad91-b5e261c067aa",
   "metadata": {},
   "outputs": [],
   "source": [
    "discontinued_chemicals.head()"
   ]
  },
  {
   "cell_type": "code",
   "execution_count": null,
   "id": "961a097c-7331-4499-a565-bc1562ed3688",
   "metadata": {},
   "outputs": [],
   "source": [
    "sorted_discontinued_chemicals = discontinued_chemicals[\"ChemicalName\"].value_counts().reset_index()"
   ]
  },
  {
   "cell_type": "code",
   "execution_count": null,
   "id": "43b1ad5a-bf1e-4017-9d3f-da148a7f8062",
   "metadata": {},
   "outputs": [],
   "source": [
    "sorted_discontinued_chemicals.head(10)"
   ]
  },
  {
   "cell_type": "code",
   "execution_count": null,
   "id": "665a479c-2d67-481a-a603-d08c6272407b",
   "metadata": {},
   "outputs": [],
   "source": [
    "# sorted_discontinued_chemicals.to_csv(\"sorted_discontinued_chemicals.csv\")"
   ]
  },
  {
   "cell_type": "code",
   "execution_count": null,
   "id": "ad3b3304-439d-44c9-b65a-24f9b244c01f",
   "metadata": {},
   "outputs": [],
   "source": [
    "# print(mkup.columns)"
   ]
  },
  {
   "cell_type": "markdown",
   "id": "16a10107-7ed5-47e7-a1c7-e2f4cc2527fb",
   "metadata": {},
   "source": [
    "# Q8- Top 10 companies with the most discontinued products?"
   ]
  },
  {
   "cell_type": "code",
   "execution_count": null,
   "id": "af764c3a-30c6-4006-b516-e1afe3316012",
   "metadata": {},
   "outputs": [],
   "source": [
    "most_discontinued_company_products = new_data2[new_data2[\"DiscontinuedDate\"].notna()]"
   ]
  },
  {
   "cell_type": "code",
   "execution_count": null,
   "id": "4fb2ee4c-b2ea-42b1-bcbe-ff1368f3e430",
   "metadata": {},
   "outputs": [],
   "source": [
    "most_discontinued_company_products.head()"
   ]
  },
  {
   "cell_type": "code",
   "execution_count": null,
   "id": "2b1a5662-d805-4263-b54e-a6e58bf29acb",
   "metadata": {},
   "outputs": [],
   "source": [
    "top10_comp_w_mst_discprod = most_discontinued_company_products[\"CompanyName\"].value_counts()"
   ]
  },
  {
   "cell_type": "code",
   "execution_count": null,
   "id": "ee4c762e-5d06-47ec-bd93-c58f8b8243f1",
   "metadata": {},
   "outputs": [],
   "source": [
    "top10_comp_w_mst_discprod = top10_comp_w_mst_discprod.reset_index()"
   ]
  },
  {
   "cell_type": "code",
   "execution_count": null,
   "id": "ecf42184-6ce0-462f-8c54-b400de3560cd",
   "metadata": {},
   "outputs": [],
   "source": [
    "top10_comp_w_mst_discprod = top10_comp_w_mst_discprod.nlargest(10, \"count\")"
   ]
  },
  {
   "cell_type": "code",
   "execution_count": null,
   "id": "85fa4134-95f4-4782-ab62-7f5657be2256",
   "metadata": {},
   "outputs": [],
   "source": [
    "top10_comp_w_mst_discprod"
   ]
  },
  {
   "cell_type": "code",
   "execution_count": null,
   "id": "eaff5a6c-a975-4c7c-b8bd-b03293676251",
   "metadata": {},
   "outputs": [],
   "source": [
    "# top10_comp_w_mst_discprod.to_csv(\"top10_comp_w_mst_discprod.csv\")"
   ]
  },
  {
   "cell_type": "markdown",
   "id": "eacd0ba6-05cf-46a5-b09d-aad586ba126d",
   "metadata": {},
   "source": [
    "# Q9- What are the top 5 most frequently occurring chemicals across all products?"
   ]
  },
  {
   "cell_type": "code",
   "execution_count": null,
   "id": "b82993d8-af36-4ac9-9a7e-0de556b46273",
   "metadata": {},
   "outputs": [],
   "source": [
    "top5_most_freq_chem = new_data2[\"ChemicalName\"].value_counts()"
   ]
  },
  {
   "cell_type": "code",
   "execution_count": null,
   "id": "805058cb-43fb-44b3-92c8-37b5082bae61",
   "metadata": {},
   "outputs": [],
   "source": [
    "top5_most_freq_chem = top5_most_freq_chem.reset_index()"
   ]
  },
  {
   "cell_type": "code",
   "execution_count": null,
   "id": "dc636740-8346-4af7-bb9b-a4f7bb99b713",
   "metadata": {},
   "outputs": [],
   "source": [
    "top5_most_freq_chem.head()"
   ]
  },
  {
   "cell_type": "code",
   "execution_count": null,
   "id": "f464a1e3-028a-4b9c-acc7-e6f0d4886844",
   "metadata": {},
   "outputs": [],
   "source": [
    "# top5_most_freq_chem.to_csv(\"top5_most_freq_chem.csv\")"
   ]
  },
  {
   "cell_type": "markdown",
   "id": "0847b203-8f4a-43b5-9dba-87bde06f478f",
   "metadata": {},
   "source": [
    "# Q10- How many products or chemicals were discontinued? Identify the most common chemicals in discontinued products."
   ]
  },
  {
   "cell_type": "code",
   "execution_count": null,
   "id": "12ba385d-b12c-4104-8ae4-720413ab59c7",
   "metadata": {},
   "outputs": [],
   "source": [
    "# this shows the how many products were discontinued\n",
    "number_discontinued_Product = new_data2['DiscontinuedDate'].count()"
   ]
  },
  {
   "cell_type": "code",
   "execution_count": null,
   "id": "7d5da64c-65d6-47a7-9671-86b381ed85cc",
   "metadata": {},
   "outputs": [],
   "source": [
    "number_discontinued_Product"
   ]
  },
  {
   "cell_type": "code",
   "execution_count": null,
   "id": "cdb80c16-aacd-4f69-8587-04f08f9c2e3a",
   "metadata": {},
   "outputs": [],
   "source": [
    "# this shows the how many chemicals from the product were removed\n",
    "number_discontinued_Chemicals = mkup.dropna(subset='ChemicalDateRemoved').drop_duplicates(\"ChemicalName\")"
   ]
  },
  {
   "cell_type": "code",
   "execution_count": null,
   "id": "6244cdf1-aaa0-41e1-8377-65b2aef9d1a1",
   "metadata": {},
   "outputs": [],
   "source": [
    "number_discontinued_Chemicals.head()"
   ]
  },
  {
   "cell_type": "code",
   "execution_count": null,
   "id": "302b54be-daa7-49e7-aef5-02e976380f85",
   "metadata": {},
   "outputs": [],
   "source": [
    "# most common chemicals in discontinued products.\n",
    "# notna filters the rows where the discountinued date is not null\n",
    "discontinued_Product = new_data2[new_data2['DiscontinuedDate'].notna()]"
   ]
  },
  {
   "cell_type": "code",
   "execution_count": null,
   "id": "aa0d93cf-6067-4abc-b9c4-f9a65bfc2cf4",
   "metadata": {},
   "outputs": [],
   "source": [
    "discontinued_Product.head(1)"
   ]
  },
  {
   "cell_type": "code",
   "execution_count": null,
   "id": "6c25d3b0-d1e7-4e5e-9e7b-5362a048922d",
   "metadata": {},
   "outputs": [],
   "source": [
    "# the most common chemicals in discontinued products\n",
    "most_common_chemical = discontinued_Product['ChemicalName'].value_counts()"
   ]
  },
  {
   "cell_type": "code",
   "execution_count": null,
   "id": "da58b6c8-0ddd-4bda-baa2-c15eb172ed7b",
   "metadata": {},
   "outputs": [],
   "source": [
    "most_common_chemical"
   ]
  },
  {
   "cell_type": "code",
   "execution_count": null,
   "id": "1e96f0d8-ec39-4ee6-b104-c54c77e6ccf4",
   "metadata": {},
   "outputs": [],
   "source": [
    "# Ryan help me in this code using string operation to split columns\n",
    "most_common_chemical_discontinued_Product = discontinued_Product['ChemicalName'].str.split(',')"
   ]
  },
  {
   "cell_type": "code",
   "execution_count": null,
   "id": "724a70cc-78f3-4272-a7c4-a0d46552c440",
   "metadata": {},
   "outputs": [],
   "source": [
    "most_common_chemical_discontinued_Product"
   ]
  },
  {
   "cell_type": "code",
   "execution_count": null,
   "id": "89bbe798-24b9-4ba0-b4ca-518874be6c50",
   "metadata": {},
   "outputs": [],
   "source": [
    "most_common_chemical_discontinued_Product = discontinued_Product['ChemicalName'].str.split(',', expand=True)"
   ]
  },
  {
   "cell_type": "code",
   "execution_count": null,
   "id": "9d607a6e-cf65-4034-bc44-4e9ae8a0da60",
   "metadata": {},
   "outputs": [],
   "source": [
    "most_common_chemical_discontinued_Product"
   ]
  },
  {
   "cell_type": "code",
   "execution_count": null,
   "id": "380017b1-2c85-4082-8cca-9e8b05005ad3",
   "metadata": {},
   "outputs": [],
   "source": [
    "most_common_chemical_discontinued_Product.reset_index()"
   ]
  },
  {
   "cell_type": "code",
   "execution_count": null,
   "id": "e15f1bec-45c5-45d4-8eff-6b92f7a6cc5f",
   "metadata": {},
   "outputs": [],
   "source": [
    "most_common_chemical_discontinued_Product= most_common_chemical_discontinued_Product[0].value_counts()"
   ]
  },
  {
   "cell_type": "code",
   "execution_count": null,
   "id": "c58447c5-48f7-4250-9536-c05a8d585b44",
   "metadata": {},
   "outputs": [],
   "source": [
    "most_common_chemical_discontinued_Product = most_common_chemical_discontinued_Product.reset_index()"
   ]
  },
  {
   "cell_type": "code",
   "execution_count": null,
   "id": "9da01717-706f-4834-a423-cfb3c10f3faf",
   "metadata": {},
   "outputs": [],
   "source": [
    "most_common_chemical_discontinued_Product = most_common_chemical_discontinued_Product.rename(columns={most_common_chemical_discontinued_Product.columns[0]:\"Chemical Name\"})"
   ]
  },
  {
   "cell_type": "code",
   "execution_count": null,
   "id": "c4ff7aa0-d9d5-400f-92f3-b01911511433",
   "metadata": {},
   "outputs": [],
   "source": [
    "most_common_chemical_discontinued_Product.head()"
   ]
  },
  {
   "cell_type": "code",
   "execution_count": null,
   "id": "d1999523-522d-4ff6-8b10-f59423363e23",
   "metadata": {},
   "outputs": [],
   "source": [
    "most_common_chemical_discontinued_Product.to_csv(\"most_common_chemical_discontinued_Product.csv\", index=False)"
   ]
  },
  {
   "cell_type": "code",
   "execution_count": null,
   "id": "d8fc0382-816a-47a4-8e4f-9dbb12af88ff",
   "metadata": {},
   "outputs": [],
   "source": []
  },
  {
   "cell_type": "code",
   "execution_count": null,
   "id": "8b62f87a-db59-4aba-9d3e-1b8da6a5af99",
   "metadata": {},
   "outputs": [],
   "source": []
  },
  {
   "cell_type": "markdown",
   "id": "82dd611b-64de-47ef-91f9-c81f4b377443",
   "metadata": {},
   "source": [
    "# Q11- Which PrimaryCategory, brandname, companyname, productname has the highest percentage of discontinued products? "
   ]
  },
  {
   "cell_type": "markdown",
   "id": "eb758c61-2504-4af7-8f2b-784a34cd1b63",
   "metadata": {},
   "source": [
    "# highest percentage of discontinued PrimaryCategory"
   ]
  },
  {
   "cell_type": "code",
   "execution_count": null,
   "id": "54b5cb90-c147-4eeb-b713-0f8bc206d5a7",
   "metadata": {},
   "outputs": [],
   "source": [
    "#  finding if the prod is discontinue and saving it to a new df\n",
    "discontinued_Product = new_data2[new_data2['DiscontinuedDate'].notna()]"
   ]
  },
  {
   "cell_type": "code",
   "execution_count": null,
   "id": "02a7b450-daa2-4453-b44b-192bf643fb8e",
   "metadata": {},
   "outputs": [],
   "source": [
    "discontinued_Product.head()"
   ]
  },
  {
   "cell_type": "code",
   "execution_count": null,
   "id": "55ce80eb-1a35-4b81-9b05-5c180cb70771",
   "metadata": {},
   "outputs": [],
   "source": [
    "discontinued_counts = discontinued_Product.groupby(['PrimaryCategory']).size().reset_index(name='discontinued_count')"
   ]
  },
  {
   "cell_type": "code",
   "execution_count": null,
   "id": "c9c24739-a217-4449-a505-ee49102b9563",
   "metadata": {},
   "outputs": [],
   "source": [
    "discontinued_counts=discontinued_counts.sort_values(by = 'discontinued_count', ascending = False)"
   ]
  },
  {
   "cell_type": "code",
   "execution_count": null,
   "id": "55c90f2f-de17-4076-b2ae-3942d020fd56",
   "metadata": {},
   "outputs": [],
   "source": [
    "discontinued_counts.head()"
   ]
  },
  {
   "cell_type": "code",
   "execution_count": null,
   "id": "3a1496c8-7ec5-46fb-8ddc-089741b3bd27",
   "metadata": {},
   "outputs": [],
   "source": [
    "total_counts = new_data2.groupby(['PrimaryCategory']).size().reset_index(name='total_count')"
   ]
  },
  {
   "cell_type": "code",
   "execution_count": null,
   "id": "43592952-6b93-4a3c-a4a7-0d56d9084400",
   "metadata": {},
   "outputs": [],
   "source": [
    "total_counts.head(3)"
   ]
  },
  {
   "cell_type": "code",
   "execution_count": null,
   "id": "5af0fbb0-202b-48bf-a751-12742b60d7aa",
   "metadata": {},
   "outputs": [],
   "source": [
    "total_counts_disc_PrimaryCategory = pd.merge(discontinued_counts, total_counts, on='PrimaryCategory')"
   ]
  },
  {
   "cell_type": "code",
   "execution_count": null,
   "id": "153509ce-4027-4b8c-8ddb-7f2f36412df4",
   "metadata": {},
   "outputs": [],
   "source": [
    "total_counts_disc_PrimaryCategory.head(3)"
   ]
  },
  {
   "cell_type": "code",
   "execution_count": null,
   "id": "7fd1fdba-6a9a-4b7d-95a2-5673f67e691e",
   "metadata": {},
   "outputs": [],
   "source": [
    "total_counts_disc_PrimaryCategory['discontinued_percentage'] = (total_counts_disc_PrimaryCategory['discontinued_count'] / total_counts_disc_PrimaryCategory['total_count']) * 100"
   ]
  },
  {
   "cell_type": "code",
   "execution_count": null,
   "id": "73930a66-367b-43a2-afa1-31367f0774fe",
   "metadata": {},
   "outputs": [],
   "source": [
    "total_counts_disc_PrimaryCategory = total_counts_disc_PrimaryCategory.sort_values(by='discontinued_percentage', ascending=False)"
   ]
  },
  {
   "cell_type": "code",
   "execution_count": null,
   "id": "16d82116-178d-4773-915b-60098eaa601c",
   "metadata": {},
   "outputs": [],
   "source": [
    "total_counts_disc_PrimaryCategory.head()"
   ]
  },
  {
   "cell_type": "markdown",
   "id": "fc6f2f1d-05dc-48d6-85fc-4cb2930c33f3",
   "metadata": {},
   "source": [
    "# highest percentage of discontinued brandname"
   ]
  },
  {
   "cell_type": "code",
   "execution_count": null,
   "id": "6551712d-0af2-4ce8-b770-8037bf9d3051",
   "metadata": {},
   "outputs": [],
   "source": [
    "disc_brand = discontinued_Product.groupby(['BrandName']).size().reset_index(name='discontinued_count')"
   ]
  },
  {
   "cell_type": "code",
   "execution_count": null,
   "id": "b6a080c2-4369-4c83-8c32-f4b2a5827a84",
   "metadata": {},
   "outputs": [],
   "source": [
    "disc_brand.head()"
   ]
  },
  {
   "cell_type": "code",
   "execution_count": null,
   "id": "28c48957-9a15-4c00-8435-61be92a8996d",
   "metadata": {},
   "outputs": [],
   "source": [
    "disc_brand=disc_brand.sort_values(by = 'discontinued_count', ascending = False)"
   ]
  },
  {
   "cell_type": "code",
   "execution_count": null,
   "id": "aaaa42c8-b25c-4eb7-81e1-391910369cad",
   "metadata": {},
   "outputs": [],
   "source": [
    "disc_brand.head()"
   ]
  },
  {
   "cell_type": "code",
   "execution_count": null,
   "id": "5682e756-9c08-4628-9487-663b50091af1",
   "metadata": {},
   "outputs": [],
   "source": [
    "total_counts_disc_brand = new_data2.groupby(['BrandName']).size().reset_index(name='total_count')"
   ]
  },
  {
   "cell_type": "code",
   "execution_count": null,
   "id": "ccddb6c7-90b6-45d7-bc90-6a3fbe45b6b7",
   "metadata": {},
   "outputs": [],
   "source": [
    "total_counts_disc_brand.head(3)"
   ]
  },
  {
   "cell_type": "code",
   "execution_count": null,
   "id": "cbd6b8fe-de3d-4296-b9a7-8d5918253786",
   "metadata": {},
   "outputs": [],
   "source": [
    "total_counts_disc_brand = total_counts_disc_brand.sort_values(by = 'total_count', ascending = False)"
   ]
  },
  {
   "cell_type": "code",
   "execution_count": null,
   "id": "ab0b5418-526e-4b91-9e03-ed8e47fde489",
   "metadata": {},
   "outputs": [],
   "source": [
    "total_counts_disc_brand.head()"
   ]
  },
  {
   "cell_type": "code",
   "execution_count": null,
   "id": "a325254c-ca45-4207-8c3b-06e2d7d8ed2b",
   "metadata": {},
   "outputs": [],
   "source": [
    "merged_disc_brand = pd.merge(disc_brand, total_counts_disc_brand, on='BrandName')"
   ]
  },
  {
   "cell_type": "code",
   "execution_count": null,
   "id": "ae7c755b-e55c-4089-b582-b03bfa228bce",
   "metadata": {},
   "outputs": [],
   "source": [
    "merged_disc_brand.head(3)"
   ]
  },
  {
   "cell_type": "code",
   "execution_count": null,
   "id": "91445d4e-4f0a-4d5a-b1cc-78d195d30b99",
   "metadata": {},
   "outputs": [],
   "source": [
    "merged_disc_brand = merged_disc_brand.sort_values(by = 'total_count', ascending = False)"
   ]
  },
  {
   "cell_type": "code",
   "execution_count": null,
   "id": "6cebe45a-0d81-4573-b69c-aa48437e84a5",
   "metadata": {},
   "outputs": [],
   "source": [
    "merged_disc_brand.head()"
   ]
  },
  {
   "cell_type": "code",
   "execution_count": null,
   "id": "ce8ba4f5-fbdf-4254-af75-ed9ef9ae6472",
   "metadata": {},
   "outputs": [],
   "source": [
    "merged_disc_brand['discontinued_percentage'] = (merged_disc_brand['discontinued_count'] / merged_disc_brand['total_count']) * 100"
   ]
  },
  {
   "cell_type": "code",
   "execution_count": null,
   "id": "790127ec-cbf0-46d6-b474-9187a5789a37",
   "metadata": {},
   "outputs": [],
   "source": [
    "merged_disc_brand.head()"
   ]
  },
  {
   "cell_type": "markdown",
   "id": "b7d68e60-9955-4222-b315-cee1ded6bd47",
   "metadata": {},
   "source": [
    "# highest percentage of discontinued per companyname"
   ]
  },
  {
   "cell_type": "code",
   "execution_count": null,
   "id": "ac3e5111-c8cd-40fb-b740-6a546ec97664",
   "metadata": {},
   "outputs": [],
   "source": [
    "disc_companyname = discontinued_Product.groupby(['CompanyName']).size().reset_index(name='discontinued_count')"
   ]
  },
  {
   "cell_type": "code",
   "execution_count": null,
   "id": "55f7dedc-11a0-4e7b-b82d-2d336564808e",
   "metadata": {},
   "outputs": [],
   "source": [
    "disc_companyname.head()"
   ]
  },
  {
   "cell_type": "code",
   "execution_count": null,
   "id": "4827c932-0ab3-4d02-bcca-b2ec1141e933",
   "metadata": {},
   "outputs": [],
   "source": [
    "disc_companyname = disc_companyname.sort_values(by = 'discontinued_count', ascending = False)"
   ]
  },
  {
   "cell_type": "code",
   "execution_count": null,
   "id": "ffcb3ee3-9fd3-4d47-b1da-d18f8676ff27",
   "metadata": {},
   "outputs": [],
   "source": [
    "disc_companyname.head()"
   ]
  },
  {
   "cell_type": "code",
   "execution_count": null,
   "id": "b50bcb8a-d5fb-420a-a5ab-52c71fa27100",
   "metadata": {},
   "outputs": [],
   "source": [
    "total_counts_disc_company = new_data2.groupby(['CompanyName']).size().reset_index(name='total_count')"
   ]
  },
  {
   "cell_type": "code",
   "execution_count": null,
   "id": "12d5ca2b-7a98-4167-8423-5fa3a600588c",
   "metadata": {},
   "outputs": [],
   "source": [
    "total_counts_disc_company.head(3)"
   ]
  },
  {
   "cell_type": "code",
   "execution_count": null,
   "id": "91d7f6df-d8ed-46a3-9960-553726ff2620",
   "metadata": {},
   "outputs": [],
   "source": [
    "total_counts_disc_company = total_counts_disc_company.sort_values(by = 'total_count', ascending = False)"
   ]
  },
  {
   "cell_type": "code",
   "execution_count": null,
   "id": "7e7890d3-98ed-460f-8352-267ed23aefdc",
   "metadata": {},
   "outputs": [],
   "source": [
    "total_counts_disc_company.head()"
   ]
  },
  {
   "cell_type": "code",
   "execution_count": null,
   "id": "ea6b760b-51ca-41b0-a763-9b3776f463ed",
   "metadata": {},
   "outputs": [],
   "source": [
    "merged_disc_company = pd.merge(disc_companyname, total_counts_disc_company, on='CompanyName')"
   ]
  },
  {
   "cell_type": "code",
   "execution_count": null,
   "id": "f2ec97df-4918-48f8-90a6-c5293bd224ca",
   "metadata": {},
   "outputs": [],
   "source": [
    "merged_disc_company.head(3)"
   ]
  },
  {
   "cell_type": "code",
   "execution_count": null,
   "id": "7f55783c-2927-4dcb-8370-e4bfb3953dbf",
   "metadata": {},
   "outputs": [],
   "source": [
    "merged_disc_company = merged_disc_company.sort_values(by = 'total_count', ascending = False)"
   ]
  },
  {
   "cell_type": "code",
   "execution_count": null,
   "id": "c16f0886-0d47-4ad9-beb2-c97e6da7dbed",
   "metadata": {},
   "outputs": [],
   "source": [
    "merged_disc_company.head()"
   ]
  },
  {
   "cell_type": "code",
   "execution_count": null,
   "id": "1ae54269-8c00-4eb6-a1c5-07b0a4a4cf49",
   "metadata": {},
   "outputs": [],
   "source": [
    "merged_disc_company['discontinued_percentage'] = (merged_disc_company['discontinued_count'] / merged_disc_company['total_count']) * 100"
   ]
  },
  {
   "cell_type": "code",
   "execution_count": null,
   "id": "90cb4d35-69ec-4e2a-9af2-2b196c575ac6",
   "metadata": {},
   "outputs": [],
   "source": [
    "merged_disc_company.head()"
   ]
  },
  {
   "cell_type": "markdown",
   "id": "e4f53d61-4f36-4cb2-bdf4-1a2c740e9aa0",
   "metadata": {},
   "source": [
    "# Q12- Which company has reported the largest number of products? How many products does each company have on average?"
   ]
  },
  {
   "cell_type": "code",
   "execution_count": null,
   "id": "00c915d7-2990-4fc6-99cb-59c5c0a745ff",
   "metadata": {},
   "outputs": [],
   "source": [
    "largest_product = new_data2.groupby('CompanyName')['ProductName'].count().sort_values(ascending=False).reset_index()"
   ]
  },
  {
   "cell_type": "code",
   "execution_count": null,
   "id": "8d9fd48e-7c1a-494b-b5d6-0a9ce7fe79c3",
   "metadata": {},
   "outputs": [],
   "source": [
    "largest_product = largest_product.rename(columns = {'ProductName':'largestnumberofproducts'})"
   ]
  },
  {
   "cell_type": "code",
   "execution_count": null,
   "id": "c307aaab-59c0-41ce-a134-1ddc9994974f",
   "metadata": {},
   "outputs": [],
   "source": [
    "largest_product.nlargest(1, 'largestnumberofproducts')"
   ]
  },
  {
   "cell_type": "code",
   "execution_count": null,
   "id": "f22989b9-f7fa-49f7-824e-7dcf58d10e3e",
   "metadata": {},
   "outputs": [],
   "source": [
    "product_counts = new_data2.groupby('CompanyName')['ProductName'].count()"
   ]
  },
  {
   "cell_type": "code",
   "execution_count": null,
   "id": "339a82ef-52a0-4bbe-a1af-01d4d5af2276",
   "metadata": {},
   "outputs": [],
   "source": [
    "product_counts"
   ]
  },
  {
   "cell_type": "code",
   "execution_count": null,
   "id": "153368d0-6eb9-4d34-9601-3648a3b0ab46",
   "metadata": {},
   "outputs": [],
   "source": [
    "average_products_per_company = product_counts.mean()"
   ]
  },
  {
   "cell_type": "code",
   "execution_count": null,
   "id": "886ea61b-1a0c-4ac9-a0ca-512b8f05ac0e",
   "metadata": {},
   "outputs": [],
   "source": [
    "average_products_per_company"
   ]
  },
  {
   "cell_type": "markdown",
   "id": "51e0139d-be21-42bb-bb5e-beebd940df40",
   "metadata": {},
   "source": [
    "# Q13- Which product has the highest number of chemicals associated with it?"
   ]
  },
  {
   "cell_type": "code",
   "execution_count": null,
   "id": "05cd5768-bb54-4491-b2ac-54cd4a19f817",
   "metadata": {},
   "outputs": [],
   "source": [
    "# checking which product has the highest number of chemicals\n",
    "new_data2.loc[new_data2[\"ChemicalCount\"].idxmax()]"
   ]
  },
  {
   "cell_type": "code",
   "execution_count": null,
   "id": "89bc5c0e-695a-4924-84e4-20a133cc3d02",
   "metadata": {},
   "outputs": [],
   "source": [
    "high_chemical_mkup = new_data2.sort_values(by = \"ChemicalCount\", ascending = False)"
   ]
  },
  {
   "cell_type": "code",
   "execution_count": null,
   "id": "c8790cae-7a2b-4948-b1b1-a6a2179e7af5",
   "metadata": {},
   "outputs": [],
   "source": [
    "high_chemical_mkup.head()"
   ]
  },
  {
   "cell_type": "markdown",
   "id": "544de14d-f192-41dd-bdf8-2ec83a594a32",
   "metadata": {},
   "source": [
    "# Q14-# how many unique chemicals are used in each combination of Brand, Primary Category, and Subcategory?"
   ]
  },
  {
   "cell_type": "code",
   "execution_count": null,
   "id": "a0b8007a-bb37-4966-b249-164c45a61263",
   "metadata": {},
   "outputs": [],
   "source": [
    "brand_primary_subcategory_chemicals = new_data2.groupby(['BrandName', 'PrimaryCategory', 'SubCategory', 'ChemicalName'])['ChemicalName'].nunique().reset_index(name='UniqueChemicalCount')"
   ]
  },
  {
   "cell_type": "code",
   "execution_count": null,
   "id": "bf3ff226-d6ae-4faa-bd56-cc7289ccf3e9",
   "metadata": {},
   "outputs": [],
   "source": [
    "brand_primary_subcategory_chemicals.head()"
   ]
  },
  {
   "cell_type": "code",
   "execution_count": null,
   "id": "cfe6f3eb-e92c-400b-b7a2-613695d03cdf",
   "metadata": {},
   "outputs": [],
   "source": [
    "brand_primary_subcategory_chemicals = brand_primary_subcategory_chemicals.sort_values(by=\"UniqueChemicalCount\", ascending=False)"
   ]
  },
  {
   "cell_type": "code",
   "execution_count": null,
   "id": "8b23a189-9af1-4049-ad62-b84098104f8b",
   "metadata": {},
   "outputs": [],
   "source": [
    "brand_primary_subcategory_chemicals.head()"
   ]
  },
  {
   "cell_type": "code",
   "execution_count": null,
   "id": "dd1c2fb6-5d1a-48ee-ae64-f1237a4c0d8a",
   "metadata": {},
   "outputs": [],
   "source": [
    "brand_primary_subcategory_chemicals = brand_primary_subcategory_chemicals.sort_values(by=\"UniqueChemicalCount\", ascending=False)"
   ]
  },
  {
   "cell_type": "code",
   "execution_count": null,
   "id": "14ea3b11-8603-4174-8f54-a8656ede5d27",
   "metadata": {},
   "outputs": [],
   "source": [
    "brand_primary_subcategory_chemicals.head()"
   ]
  },
  {
   "cell_type": "code",
   "execution_count": null,
   "id": "a481ce83-413b-4a5f-ad9f-2d5d2454b241",
   "metadata": {},
   "outputs": [],
   "source": [
    "brand_primary_subcategory_chemicals[\"chemical_name_list\"] = brand_primary_subcategory_chemicals[\"ChemicalName\"].str.split(\", \")"
   ]
  },
  {
   "cell_type": "code",
   "execution_count": null,
   "id": "124155f3-94e4-43fa-9e96-7b0be72c4ad4",
   "metadata": {},
   "outputs": [],
   "source": [
    "brand_primary_subcategory_chemicals.head()"
   ]
  },
  {
   "cell_type": "code",
   "execution_count": null,
   "id": "b8a9fc4f-cf51-43bb-bd26-488145de1625",
   "metadata": {},
   "outputs": [],
   "source": [
    "# brand_primary_subcategory_chemicals[\"unique_chemical_name_list2\"] = brand_primary_subcategory_chemicals[\"chemical_name_list\"].map(set).map(list)"
   ]
  },
  {
   "cell_type": "code",
   "execution_count": null,
   "id": "de79dca2-c207-480b-9d86-edf2a1f5c6cb",
   "metadata": {},
   "outputs": [],
   "source": [
    "# Charlie helps me to bring the unique chemicals names\n",
    "brand_primary_subcategory_chemicals[\"unique_chemical_name_list\"] = brand_primary_subcategory_chemicals[\"chemical_name_list\"].apply(lambda x: list({item for item in x}))"
   ]
  },
  {
   "cell_type": "code",
   "execution_count": null,
   "id": "c679acf4-fe72-4e72-8faf-269d10a26206",
   "metadata": {},
   "outputs": [],
   "source": [
    "brand_primary_subcategory_chemicals.head()"
   ]
  },
  {
   "cell_type": "code",
   "execution_count": null,
   "id": "feca1f2d-b0c4-474f-b65f-f9821bb6ef67",
   "metadata": {},
   "outputs": [],
   "source": []
  },
  {
   "cell_type": "code",
   "execution_count": null,
   "id": "b64e0b16-9fef-4732-910b-1553b92aefc7",
   "metadata": {},
   "outputs": [],
   "source": []
  },
  {
   "cell_type": "code",
   "execution_count": null,
   "id": "cfdba677-ba94-440f-9cb7-55592fdba10e",
   "metadata": {},
   "outputs": [],
   "source": []
  },
  {
   "cell_type": "code",
   "execution_count": null,
   "id": "a1720cce-8305-4d87-b6e6-38c9c950b11c",
   "metadata": {},
   "outputs": [],
   "source": []
  },
  {
   "cell_type": "code",
   "execution_count": null,
   "id": "f634f782-9eda-419e-8243-f4a7756d166c",
   "metadata": {},
   "outputs": [],
   "source": []
  }
 ],
 "metadata": {
  "kernelspec": {
   "display_name": "Python 3 (ipykernel)",
   "language": "python",
   "name": "python3"
  },
  "language_info": {
   "codemirror_mode": {
    "name": "ipython",
    "version": 3
   },
   "file_extension": ".py",
   "mimetype": "text/x-python",
   "name": "python",
   "nbconvert_exporter": "python",
   "pygments_lexer": "ipython3",
   "version": "3.12.4"
  }
 },
 "nbformat": 4,
 "nbformat_minor": 5
}
